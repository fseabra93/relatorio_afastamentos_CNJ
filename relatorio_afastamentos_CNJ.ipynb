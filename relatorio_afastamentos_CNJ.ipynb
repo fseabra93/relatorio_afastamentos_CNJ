{
  "nbformat": 4,
  "nbformat_minor": 0,
  "metadata": {
    "colab": {
      "provenance": [],
      "authorship_tag": "ABX9TyOUvNZKKvPaak1VtYzw1J2G",
      "include_colab_link": true
    },
    "kernelspec": {
      "name": "python3",
      "display_name": "Python 3"
    },
    "language_info": {
      "name": "python"
    }
  },
  "cells": [
    {
      "cell_type": "markdown",
      "metadata": {
        "id": "view-in-github",
        "colab_type": "text"
      },
      "source": [
        "<a href=\"https://colab.research.google.com/github/fseabra93/relatorio_afastamentos_CNJ/blob/main/relatorio_afastamentos_CNJ.ipynb\" target=\"_parent\"><img src=\"https://colab.research.google.com/assets/colab-badge.svg\" alt=\"Open In Colab\"/></a>"
      ]
    },
    {
      "cell_type": "code",
      "execution_count": 1,
      "metadata": {
        "colab": {
          "base_uri": "https://localhost:8080/"
        },
        "id": "vOZUsoz7EdCZ",
        "outputId": "2ab263ba-8b61-4970-8590-df055b606ed4"
      },
      "outputs": [
        {
          "output_type": "stream",
          "name": "stdout",
          "text": [
            "13/12/2024\n"
          ]
        }
      ],
      "source": [
        "import pandas as pd\n",
        "import numpy as np\n",
        "import os\n",
        "from datetime import date\n",
        "from datetime import datetime, timedelta\n",
        "import time\n",
        "\n",
        "today = date.today()\n",
        "dia = today.day\n",
        "n_mes = today.month\n",
        "ano = today.year\n",
        "\n",
        "data_h = f'{dia}/{n_mes}/{ano}'\n",
        "print(data_h)"
      ]
    },
    {
      "cell_type": "code",
      "source": [
        "\n",
        "modelo = \"arquivo_modelo_quadro_pessoal.xlsx\"\n",
        "plan_afastamentos1 = \"relatorio_novembro_1.CSV\"\n",
        "plan_afastamentos2 = \"relatorio_novembro_2.CSV\"\n",
        "servidores = \"servidores.CSV\"\n",
        "\n",
        "\n",
        "df_afast1 = pd.read_csv(plan_afastamentos1, encoding='latin-1')  # or 'iso-8859-1', 'cp1252'\n",
        "df_afast2 = pd.read_csv(plan_afastamentos2, encoding='latin-1')  # or 'iso-8859-1', 'cp1252'\n",
        "df_modelo = pd.read_excel(modelo)\n",
        "df_serv = pd.read_csv(servidores, encoding='latin-1')  # or 'iso-8859-1', 'cp1252'"
      ],
      "metadata": {
        "id": "jZfixtChEnc8"
      },
      "execution_count": 2,
      "outputs": []
    },
    {
      "cell_type": "code",
      "source": [
        "df_modelo = df_modelo.drop(0)\n",
        "df_modelo = df_modelo.reset_index(drop=True)\n"
      ],
      "metadata": {
        "id": "9pB0qnAoEqg7"
      },
      "execution_count": 3,
      "outputs": []
    },
    {
      "cell_type": "code",
      "source": [
        "df_afast1 = df_afast1.dropna(axis=1, how='all')"
      ],
      "metadata": {
        "id": "nLcgREgkuAXg"
      },
      "execution_count": 4,
      "outputs": []
    },
    {
      "cell_type": "code",
      "source": [
        "df_afast1['Unnamed: 1'] = df_afast1['Unnamed: 1'].fillna(method='ffill')\n",
        "#df_afast1['Unnamed: 6'] = df_afast1['Unnamed: 6'].fillna(method='ffill')\n",
        "\n",
        "#\n",
        "#\n",
        "# df_afast1 = df_afast1[df_afast1['Unnamed: 1'].str.startswith('12')]\n",
        "# df_afast1 = df_afast1.reset_index(drop=True)\n"
      ],
      "metadata": {
        "colab": {
          "base_uri": "https://localhost:8080/"
        },
        "id": "Z02i8kOq8Y86",
        "outputId": "62afe9a1-fb1c-4092-dd7c-05ce76c2a388"
      },
      "execution_count": 5,
      "outputs": [
        {
          "output_type": "stream",
          "name": "stderr",
          "text": [
            "<ipython-input-5-43f69541c34c>:1: FutureWarning: Series.fillna with 'method' is deprecated and will raise in a future version. Use obj.ffill() or obj.bfill() instead.\n",
            "  df_afast1['Unnamed: 1'] = df_afast1['Unnamed: 1'].fillna(method='ffill')\n",
            "<ipython-input-5-43f69541c34c>:1: SettingWithCopyWarning: \n",
            "A value is trying to be set on a copy of a slice from a DataFrame.\n",
            "Try using .loc[row_indexer,col_indexer] = value instead\n",
            "\n",
            "See the caveats in the documentation: https://pandas.pydata.org/pandas-docs/stable/user_guide/indexing.html#returning-a-view-versus-a-copy\n",
            "  df_afast1['Unnamed: 1'] = df_afast1['Unnamed: 1'].fillna(method='ffill')\n"
          ]
        }
      ]
    },
    {
      "cell_type": "code",
      "source": [
        "df_afast1 = df_afast1.dropna(subset=['Unnamed: 10'])"
      ],
      "metadata": {
        "id": "3qrTb8TsulK_"
      },
      "execution_count": 6,
      "outputs": []
    },
    {
      "cell_type": "code",
      "source": [
        "df_afast1 = df_afast1[['Unnamed: 1', 'Unnamed: 7', 'Unnamed: 10']]\n",
        "df_afast1 = df_afast1.reset_index(drop=True)\n",
        "\n",
        "rename_columns = {'Unnamed: 1': 'Nome', 'Unnamed: 7': 'Inicio', 'Unnamed: 10': 'Fim'}\n",
        "df_afast1 = df_afast1.rename(columns=rename_columns)\n",
        "# df_afast1"
      ],
      "metadata": {
        "id": "ZQqD9a-FzX--"
      },
      "execution_count": 7,
      "outputs": []
    },
    {
      "cell_type": "code",
      "source": [
        "df_afast2 = df_afast2.dropna(subset=['Unnamed: 8'])"
      ],
      "metadata": {
        "id": "QWi2fVS9xCBw"
      },
      "execution_count": 8,
      "outputs": []
    },
    {
      "cell_type": "code",
      "source": [
        "df_prov1 = df_afast2[df_afast2['Unnamed: 1'].str.match(r'^\\d')]\n",
        "df_prov2 = df_afast2[~df_afast2['Unnamed: 1'].str.match(r'^\\d')]\n"
      ],
      "metadata": {
        "id": "Z1yRy0tByCEt"
      },
      "execution_count": 9,
      "outputs": []
    },
    {
      "cell_type": "code",
      "source": [
        "df_prov1 = df_prov1[['Unnamed: 3', 'Unnamed: 8', 'Unnamed: 10']]\n",
        "rename_columns = {'Unnamed: 3': 'Nome', 'Unnamed: 8': 'Inicio', 'Unnamed: 10': 'Fim'}\n",
        "df_prov1 = df_prov1.rename(columns=rename_columns)\n",
        "# df_prov1"
      ],
      "metadata": {
        "id": "9qFPxEY4yPEn"
      },
      "execution_count": 10,
      "outputs": []
    },
    {
      "cell_type": "code",
      "source": [
        "df_prov2 = df_prov2[['Unnamed: 1', 'Unnamed: 4', 'Unnamed: 5']]\n",
        "rename_columns = {'Unnamed: 1': 'Nome', 'Unnamed: 4': 'Inicio', 'Unnamed: 5': 'Fim'}\n",
        "df_prov2 = df_prov2.rename(columns=rename_columns)\n",
        "# df_prov2"
      ],
      "metadata": {
        "id": "1oCgngU0ymWY"
      },
      "execution_count": 11,
      "outputs": []
    },
    {
      "cell_type": "code",
      "source": [
        "df_afast2 = pd.concat([df_prov1, df_prov2]).reset_index(drop=True)\n",
        "# df_afast2"
      ],
      "metadata": {
        "id": "rDnCPD-m0bDr"
      },
      "execution_count": 12,
      "outputs": []
    },
    {
      "cell_type": "code",
      "source": [
        "df_afast_total = pd.concat([df_afast1, df_afast2]).reset_index(drop=True)"
      ],
      "metadata": {
        "id": "Vgs0bwGsxbfY"
      },
      "execution_count": 13,
      "outputs": []
    },
    {
      "cell_type": "code",
      "source": [
        "df_serv = df_serv.dropna(subset=['Unnamed: 3'])\n",
        "df_serv = df_serv.reset_index(drop=True)\n",
        "rename_columns = {'Unnamed: 0': 'Nome'}\n",
        "df_serv = df_serv.rename(columns=rename_columns)"
      ],
      "metadata": {
        "id": "yDO2WP20ZF8K"
      },
      "execution_count": 14,
      "outputs": []
    },
    {
      "cell_type": "code",
      "source": [
        "lista_gestao = df_serv['Nome'].tolist()\n",
        "lista_modelo = df_modelo['Nome'].tolist()\n",
        "\n",
        "lista_nomes = []\n",
        "for nome in lista_gestao:\n",
        "    if nome not in lista_modelo:\n",
        "        lista_nomes.append(nome)\n",
        "\n",
        "# lista_nomes\n",
        "\n"
      ],
      "metadata": {
        "id": "q3nJiswzNwwY"
      },
      "execution_count": 15,
      "outputs": []
    },
    {
      "cell_type": "code",
      "source": [
        "novos_dados = pd.DataFrame(lista_nomes, columns=['Nome'])\n",
        "novos_dados = novos_dados.reindex(columns=df_modelo.columns)\n",
        "\n",
        "novos_dados[df_modelo.columns[0]] = np.nan\n",
        "novos_dados[df_modelo.columns[2:]] = np.nan\n",
        "\n",
        "df_modelo = pd.concat([df_modelo, novos_dados], ignore_index=True)"
      ],
      "metadata": {
        "id": "UOehmU6wNwpy"
      },
      "execution_count": 16,
      "outputs": []
    },
    {
      "cell_type": "code",
      "source": [
        "df3 = df_modelo.merge(df_afast_total[['Nome']], on='Nome', how='inner')\n",
        "df3['Situação profissional atual'] = 6\n",
        "# df3"
      ],
      "metadata": {
        "id": "KAK7O5QQLuPj"
      },
      "execution_count": 17,
      "outputs": []
    },
    {
      "cell_type": "code",
      "source": [
        "# Merge df3 com df_afast1 baseado na coluna 'Nome' para incluir 'Inicio' e 'Fim'\n",
        "df3 = df3.merge(df_afast_total[['Nome', 'Inicio', 'Fim']], on='Nome', how='left')\n",
        "\n",
        "dropar = ['Data de início da situação', 'Data de saída da situação']\n",
        "df3 = df3.drop(dropar, axis=1)\n",
        "\n",
        "# Renomear as colunas para 'Data de início da situação' e 'Data de saída da situação'\n",
        "df3.rename(columns={'Inicio': 'Data de início da situação', 'Fim': 'Data de saída da situação'}, inplace=True)\n",
        "\n",
        "df3 = df3[[col for col in df3.columns if col != 'Exclusão de registro por erro'] + ['Exclusão de registro por erro']]\n",
        "\n",
        "# df3"
      ],
      "metadata": {
        "id": "T3wAVvchO2i9"
      },
      "execution_count": 18,
      "outputs": []
    },
    {
      "cell_type": "code",
      "source": [
        "df_modelo = df_modelo.dropna(subset=['CPF'])\n",
        "df_empilhado = pd.concat([df_modelo, df3], ignore_index=True)\n",
        "df_empilhado['Data Nascimento'] = pd.to_datetime(df_empilhado['Data Nascimento'], format='%d/%m/%Y', errors='coerce').dt.strftime('%d/%m/%Y')\n",
        "df_empilhado['Data posse'] = pd.to_datetime(df_empilhado['Data posse'], format='%d/%m/%Y', errors='coerce').dt.strftime('%d/%m/%Y')\n",
        "df_empilhado['Data de início da situação'] = pd.to_datetime(df_empilhado['Data de início da situação'], format='%d/%m/%Y', errors='coerce').dt.strftime('%d/%m/%Y')\n",
        "df_empilhado['Data de saída da situação'] = pd.to_datetime(df_empilhado['Data de saída da situação'], format='%d/%m/%Y', errors='coerce').dt.strftime('%d/%m/%Y')\n",
        "df_empilhado = df_empilhado.drop_duplicates()\n",
        "df_empilhado = df_empilhado.reset_index(drop=True)\n",
        "# df_empilhado"
      ],
      "metadata": {
        "id": "n-qk4VNhRGgg"
      },
      "execution_count": 19,
      "outputs": []
    },
    {
      "cell_type": "code",
      "source": [
        "def nome_mes(mes):\n",
        "    meses = {\n",
        "        1: 'Janeiro'\n",
        "        , 2: 'Fevereiro'\n",
        "        , 3: 'Março'\n",
        "        , 4: 'Abril'\n",
        "        , 5: 'Maio'\n",
        "        , 6: 'Junho'\n",
        "        , 7: 'Julho'\n",
        "        , 8: 'Agosto'\n",
        "        , 9: 'Setembro'\n",
        "        , 10: 'Outubro'\n",
        "        , 11: 'Novembro'\n",
        "        , 12: 'Dezembro'\n",
        "    }\n",
        "    return meses.get(mes, 'Mês inválido')"
      ],
      "metadata": {
        "id": "4SYGLQpUMFCb"
      },
      "execution_count": 20,
      "outputs": []
    },
    {
      "cell_type": "code",
      "source": [
        "if n_mes == 1:\n",
        "    n_mes = 13\n",
        "    ano = ano - 1\n",
        "\n",
        "df_empilhado.to_excel(f'arquivo_licença_medica_{nome_mes(n_mes-1)}_{ano}.xlsx', index=False)\n"
      ],
      "metadata": {
        "id": "uB_Vmhw4RRwZ"
      },
      "execution_count": 21,
      "outputs": []
    },
    {
      "cell_type": "markdown",
      "source": [],
      "metadata": {
        "id": "4AR02F_1iXd7"
      }
    }
  ]
}